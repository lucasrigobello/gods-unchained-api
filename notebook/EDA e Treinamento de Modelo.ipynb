{
 "cells": [
  {
   "cell_type": "markdown",
   "id": "8e03da5b",
   "metadata": {},
   "source": [
    "# Machine Learning Engineer - LuizaLabs Desafio"
   ]
  },
  {
   "cell_type": "code",
   "execution_count": null,
   "id": "6e678fad",
   "metadata": {},
   "outputs": [],
   "source": [
    "# import de pacotes\n",
    "import pandas as pd\n",
    "import matplotlib.pyplot as plt\n",
    "import seaborn as sns\n",
    "import itertools\n",
    "\n",
    "import joblib\n",
    "from sklearn.preprocessing import OneHotEncoder\n",
    "\n",
    "from sklearn.model_selection import train_test_split\n",
    "from sklearn.svm import SVC\n",
    "\n",
    "from sklearn.metrics import classification_report\n"
   ]
  },
  {
   "cell_type": "code",
   "execution_count": 182,
   "id": "e4f94765",
   "metadata": {},
   "outputs": [],
   "source": [
    "# definição de variváveis\n",
    "train_path = '../data/challenge_train.csv'\n",
    "test_path = '../data/challenge_test.csv'\n",
    "\n",
    "target = 'strategy'"
   ]
  },
  {
   "cell_type": "code",
   "execution_count": 183,
   "id": "64c5906d",
   "metadata": {},
   "outputs": [],
   "source": [
    "# coleta dos dados\n",
    "df_train = pd.read_csv(train_path, sep = ';')\n",
    "df_train.drop(columns='id', inplace=True)\n",
    "\n",
    "df_test = pd.read_csv(test_path, sep = ';')\n",
    "df_test.drop(columns='id', inplace=True)"
   ]
  },
  {
   "cell_type": "markdown",
   "id": "e8cb5f11",
   "metadata": {},
   "source": [
    "## EDA"
   ]
  },
  {
   "cell_type": "code",
   "execution_count": 184,
   "id": "2ef62146",
   "metadata": {},
   "outputs": [
    {
     "data": {
      "text/html": [
       "<div>\n",
       "<style scoped>\n",
       "    .dataframe tbody tr th:only-of-type {\n",
       "        vertical-align: middle;\n",
       "    }\n",
       "\n",
       "    .dataframe tbody tr th {\n",
       "        vertical-align: top;\n",
       "    }\n",
       "\n",
       "    .dataframe thead th {\n",
       "        text-align: right;\n",
       "    }\n",
       "</style>\n",
       "<table border=\"1\" class=\"dataframe\">\n",
       "  <thead>\n",
       "    <tr style=\"text-align: right;\">\n",
       "      <th></th>\n",
       "      <th>name</th>\n",
       "      <th>mana</th>\n",
       "      <th>attack</th>\n",
       "      <th>health</th>\n",
       "      <th>type</th>\n",
       "      <th>god</th>\n",
       "      <th>strategy</th>\n",
       "    </tr>\n",
       "  </thead>\n",
       "  <tbody>\n",
       "    <tr>\n",
       "      <th>0</th>\n",
       "      <td>Firewine</td>\n",
       "      <td>5</td>\n",
       "      <td>0</td>\n",
       "      <td>0</td>\n",
       "      <td>spell</td>\n",
       "      <td>nature</td>\n",
       "      <td>early</td>\n",
       "    </tr>\n",
       "    <tr>\n",
       "      <th>1</th>\n",
       "      <td>Leyhoard Hatchling</td>\n",
       "      <td>10</td>\n",
       "      <td>2</td>\n",
       "      <td>1</td>\n",
       "      <td>creature</td>\n",
       "      <td>magic</td>\n",
       "      <td>late</td>\n",
       "    </tr>\n",
       "    <tr>\n",
       "      <th>2</th>\n",
       "      <td>Aetherfuel Alchemist</td>\n",
       "      <td>6</td>\n",
       "      <td>4</td>\n",
       "      <td>4</td>\n",
       "      <td>creature</td>\n",
       "      <td>neutral</td>\n",
       "      <td>late</td>\n",
       "    </tr>\n",
       "    <tr>\n",
       "      <th>3</th>\n",
       "      <td>Millenium Matryoshka</td>\n",
       "      <td>4</td>\n",
       "      <td>2</td>\n",
       "      <td>2</td>\n",
       "      <td>creature</td>\n",
       "      <td>neutral</td>\n",
       "      <td>late</td>\n",
       "    </tr>\n",
       "    <tr>\n",
       "      <th>4</th>\n",
       "      <td>Poison Peddler</td>\n",
       "      <td>4</td>\n",
       "      <td>1</td>\n",
       "      <td>3</td>\n",
       "      <td>creature</td>\n",
       "      <td>neutral</td>\n",
       "      <td>late</td>\n",
       "    </tr>\n",
       "    <tr>\n",
       "      <th>...</th>\n",
       "      <td>...</td>\n",
       "      <td>...</td>\n",
       "      <td>...</td>\n",
       "      <td>...</td>\n",
       "      <td>...</td>\n",
       "      <td>...</td>\n",
       "      <td>...</td>\n",
       "    </tr>\n",
       "    <tr>\n",
       "      <th>783</th>\n",
       "      <td>Living Container</td>\n",
       "      <td>2</td>\n",
       "      <td>1</td>\n",
       "      <td>1</td>\n",
       "      <td>creature</td>\n",
       "      <td>death</td>\n",
       "      <td>early</td>\n",
       "    </tr>\n",
       "    <tr>\n",
       "      <th>784</th>\n",
       "      <td>Famished Ghoul</td>\n",
       "      <td>4</td>\n",
       "      <td>4</td>\n",
       "      <td>4</td>\n",
       "      <td>creature</td>\n",
       "      <td>death</td>\n",
       "      <td>late</td>\n",
       "    </tr>\n",
       "    <tr>\n",
       "      <th>785</th>\n",
       "      <td>The Iron Horse</td>\n",
       "      <td>7</td>\n",
       "      <td>5</td>\n",
       "      <td>5</td>\n",
       "      <td>creature</td>\n",
       "      <td>neutral</td>\n",
       "      <td>late</td>\n",
       "    </tr>\n",
       "    <tr>\n",
       "      <th>786</th>\n",
       "      <td>Golem Excavator</td>\n",
       "      <td>7</td>\n",
       "      <td>6</td>\n",
       "      <td>7</td>\n",
       "      <td>creature</td>\n",
       "      <td>neutral</td>\n",
       "      <td>late</td>\n",
       "    </tr>\n",
       "    <tr>\n",
       "      <th>787</th>\n",
       "      <td>Chosen Visions</td>\n",
       "      <td>2</td>\n",
       "      <td>0</td>\n",
       "      <td>0</td>\n",
       "      <td>god power</td>\n",
       "      <td>light</td>\n",
       "      <td>early</td>\n",
       "    </tr>\n",
       "  </tbody>\n",
       "</table>\n",
       "<p>788 rows × 7 columns</p>\n",
       "</div>"
      ],
      "text/plain": [
       "                     name  mana  attack  health       type      god strategy\n",
       "0                Firewine     5       0       0      spell   nature    early\n",
       "1      Leyhoard Hatchling    10       2       1   creature    magic     late\n",
       "2    Aetherfuel Alchemist     6       4       4   creature  neutral     late\n",
       "3    Millenium Matryoshka     4       2       2   creature  neutral     late\n",
       "4          Poison Peddler     4       1       3   creature  neutral     late\n",
       "..                    ...   ...     ...     ...        ...      ...      ...\n",
       "783      Living Container     2       1       1   creature    death    early\n",
       "784        Famished Ghoul     4       4       4   creature    death     late\n",
       "785        The Iron Horse     7       5       5   creature  neutral     late\n",
       "786       Golem Excavator     7       6       7   creature  neutral     late\n",
       "787        Chosen Visions     2       0       0  god power    light    early\n",
       "\n",
       "[788 rows x 7 columns]"
      ]
     },
     "execution_count": 184,
     "metadata": {},
     "output_type": "execute_result"
    }
   ],
   "source": [
    "# visualizar do dataset de treinmento\n",
    "df_train"
   ]
  },
  {
   "cell_type": "code",
   "execution_count": 185,
   "id": "37f22d8f",
   "metadata": {},
   "outputs": [
    {
     "name": "stdout",
     "output_type": "stream",
     "text": [
      "<class 'pandas.core.frame.DataFrame'>\n",
      "RangeIndex: 788 entries, 0 to 787\n",
      "Data columns (total 7 columns):\n",
      " #   Column    Non-Null Count  Dtype \n",
      "---  ------    --------------  ----- \n",
      " 0   name      788 non-null    object\n",
      " 1   mana      788 non-null    int64 \n",
      " 2   attack    788 non-null    int64 \n",
      " 3   health    788 non-null    int64 \n",
      " 4   type      788 non-null    object\n",
      " 5   god       788 non-null    object\n",
      " 6   strategy  788 non-null    object\n",
      "dtypes: int64(3), object(4)\n",
      "memory usage: 43.2+ KB\n",
      "None\n"
     ]
    }
   ],
   "source": [
    "# vizualizar resumo de informações sobre o dataset\n",
    "print(df_train.info())"
   ]
  },
  {
   "cell_type": "code",
   "execution_count": 186,
   "id": "84008cfc",
   "metadata": {},
   "outputs": [
    {
     "name": "stdout",
     "output_type": "stream",
     "text": [
      "There are 3 numerical features: \n",
      "\n",
      "['mana', 'attack', 'health']\n"
     ]
    }
   ],
   "source": [
    "# Seleção de features numéricas\n",
    "numerical_data = df_train.select_dtypes(include='number')\n",
    "\n",
    "# Organizar em lista as features de numerical_data\n",
    "numerical_features = numerical_data.columns.tolist()\n",
    "\n",
    "# Vizualizar features numéricas\n",
    "print(f'There are {len(numerical_features)} numerical features:', '\\n')\n",
    "print(numerical_features)"
   ]
  },
  {
   "cell_type": "code",
   "execution_count": null,
   "id": "10071a5f",
   "metadata": {},
   "outputs": [
    {
     "name": "stdout",
     "output_type": "stream",
     "text": [
      "There are 3 categorical features: \n",
      "\n",
      "['type', 'god', 'strategy']\n"
     ]
    }
   ],
   "source": [
    "# Seleção de features de categorias/qualitativas\n",
    "categorical_data = df_train.select_dtypes(include= 'object')\n",
    "\n",
    "# Remoção da feature \"name\"\n",
    "categorical_data = categorical_data.drop(columns= 'name')\n",
    "\n",
    "#  Organizar em lista as features de categorical_data\n",
    "categorical_features = categorical_data.columns.tolist()\n",
    "\n",
    "# Vizualizar features categórias/qualitativas\n",
    "print(f'There are {len(categorical_features)} categorical features:', '\\n')\n",
    "print(categorical_features)"
   ]
  },
  {
   "cell_type": "markdown",
   "id": "4d66efdf",
   "metadata": {},
   "source": [
    "### Análise de features numéricas"
   ]
  },
  {
   "cell_type": "code",
   "execution_count": 188,
   "id": "2514adad",
   "metadata": {},
   "outputs": [
    {
     "data": {
      "text/html": [
       "<div>\n",
       "<style scoped>\n",
       "    .dataframe tbody tr th:only-of-type {\n",
       "        vertical-align: middle;\n",
       "    }\n",
       "\n",
       "    .dataframe tbody tr th {\n",
       "        vertical-align: top;\n",
       "    }\n",
       "\n",
       "    .dataframe thead th {\n",
       "        text-align: right;\n",
       "    }\n",
       "</style>\n",
       "<table border=\"1\" class=\"dataframe\">\n",
       "  <thead>\n",
       "    <tr style=\"text-align: right;\">\n",
       "      <th></th>\n",
       "      <th>count</th>\n",
       "      <th>mean</th>\n",
       "      <th>std</th>\n",
       "      <th>min</th>\n",
       "      <th>25%</th>\n",
       "      <th>50%</th>\n",
       "      <th>75%</th>\n",
       "      <th>max</th>\n",
       "    </tr>\n",
       "  </thead>\n",
       "  <tbody>\n",
       "    <tr>\n",
       "      <th>mana</th>\n",
       "      <td>788.0</td>\n",
       "      <td>3.572335</td>\n",
       "      <td>2.190100</td>\n",
       "      <td>0.0</td>\n",
       "      <td>2.0</td>\n",
       "      <td>3.0</td>\n",
       "      <td>5.0</td>\n",
       "      <td>16.0</td>\n",
       "    </tr>\n",
       "    <tr>\n",
       "      <th>attack</th>\n",
       "      <td>788.0</td>\n",
       "      <td>2.140863</td>\n",
       "      <td>2.215047</td>\n",
       "      <td>0.0</td>\n",
       "      <td>0.0</td>\n",
       "      <td>2.0</td>\n",
       "      <td>3.0</td>\n",
       "      <td>13.0</td>\n",
       "    </tr>\n",
       "    <tr>\n",
       "      <th>health</th>\n",
       "      <td>788.0</td>\n",
       "      <td>2.583756</td>\n",
       "      <td>2.455053</td>\n",
       "      <td>0.0</td>\n",
       "      <td>0.0</td>\n",
       "      <td>2.0</td>\n",
       "      <td>4.0</td>\n",
       "      <td>17.0</td>\n",
       "    </tr>\n",
       "  </tbody>\n",
       "</table>\n",
       "</div>"
      ],
      "text/plain": [
       "        count      mean       std  min  25%  50%  75%   max\n",
       "mana    788.0  3.572335  2.190100  0.0  2.0  3.0  5.0  16.0\n",
       "attack  788.0  2.140863  2.215047  0.0  0.0  2.0  3.0  13.0\n",
       "health  788.0  2.583756  2.455053  0.0  0.0  2.0  4.0  17.0"
      ]
     },
     "execution_count": 188,
     "metadata": {},
     "output_type": "execute_result"
    }
   ],
   "source": [
    "# Vizualizar descrição\n",
    "numerical_data.describe().T.to_html(\"./EDA Results/numerical_features_describe.html\")\n",
    "numerical_data.describe().T"
   ]
  },
  {
   "cell_type": "code",
   "execution_count": 189,
   "id": "fe9d7037",
   "metadata": {},
   "outputs": [
    {
     "data": {
      "text/plain": [
       "mana      0\n",
       "attack    0\n",
       "health    0\n",
       "dtype: int64"
      ]
     },
     "execution_count": 189,
     "metadata": {},
     "output_type": "execute_result"
    }
   ],
   "source": [
    "# Confirmação de valores nulos\n",
    "numerical_data.isnull().sum()"
   ]
  },
  {
   "cell_type": "code",
   "execution_count": 190,
   "id": "323c14a2",
   "metadata": {},
   "outputs": [
    {
     "data": {
      "image/png": "[encoded data removed]",
      "text/plain": [
       "<Figure size 640x480 with 1 Axes>"
      ]
     },
     "metadata": {},
     "output_type": "display_data"
    }
   ],
   "source": [
    "# Gráfico em Boxplot\n",
    "plot = sns.boxplot(numerical_data)\n",
    "plt.show()\n",
    "plot.figure.savefig(\"./EDA Results/numerical_features_boxplot.png\")"
   ]
  },
  {
   "cell_type": "code",
   "execution_count": 191,
   "id": "81e83f71",
   "metadata": {},
   "outputs": [
    {
     "data": {
      "image/png": "[encoded data removed]",
      "text/plain": [
       "<Figure size 640x480 with 1 Axes>"
      ]
     },
     "metadata": {},
     "output_type": "display_data"
    },
    {
     "data": {
      "image/png": "[encoded data removed]",
      "text/plain": [
       "<Figure size 640x480 with 1 Axes>"
      ]
     },
     "metadata": {},
     "output_type": "display_data"
    },
    {
     "data": {
      "image/png": "[encoded data removed]",
      "text/plain": [
       "<Figure size 640x480 with 1 Axes>"
      ]
     },
     "metadata": {},
     "output_type": "display_data"
    }
   ],
   "source": [
    "# Gráfico de Histograma\n",
    "for feature in numerical_features:\n",
    "    plot = sns.histplot(numerical_data[feature])\n",
    "    plt.show()\n",
    "    plot.figure.savefig(f\"./EDA Results/numerical_features_histogram_{feature}.png\")\n"
   ]
  },
  {
   "cell_type": "code",
   "execution_count": 192,
   "id": "8a894db8",
   "metadata": {},
   "outputs": [
    {
     "data": {
      "image/png": "[encoded data removed]",
      "text/plain": [
       "<Figure size 800x600 with 2 Axes>"
      ]
     },
     "metadata": {},
     "output_type": "display_data"
    }
   ],
   "source": [
    "# Correlação entre features\n",
    "plt.figure(figsize=(8,6))\n",
    "plot = sns.heatmap(numerical_data.corr(method = 'pearson'),annot=True,fmt=\".2f\", linewidth=.5)\n",
    "plt.show()\n",
    "plot.figure.savefig(f\"./EDA Results/numerical_feature_correlation.png\")\n"
   ]
  },
  {
   "cell_type": "code",
   "execution_count": 193,
   "id": "121d69b3",
   "metadata": {},
   "outputs": [
    {
     "data": {
      "image/png": "[encoded data removed]",
      "text/plain": [
       "<Figure size 800x600 with 1 Axes>"
      ]
     },
     "metadata": {},
     "output_type": "display_data"
    },
    {
     "data": {
      "image/png": "[encoded data removed]",
      "text/plain": [
       "<Figure size 800x600 with 1 Axes>"
      ]
     },
     "metadata": {},
     "output_type": "display_data"
    },
    {
     "data": {
      "image/png": "[encoded data removed]",
      "text/plain": [
       "<Figure size 800x600 with 1 Axes>"
      ]
     },
     "metadata": {},
     "output_type": "display_data"
    }
   ],
   "source": [
    "# Vizualização de disperção entre features e segmentação pelo target\n",
    "for feature1, feature2 in list(itertools.combinations(numerical_data, 2)):\n",
    "    plt.figure(figsize=(8,6))\n",
    "    plot = sns.scatterplot(numerical_data,\n",
    "            x = feature1,\n",
    "            y = feature2 ,\n",
    "            hue = df_train[target]\n",
    "            )\n",
    "    plt.show()\n",
    "    plot.figure.savefig(f\"./EDA Results/numerical_features_scatter_{feature1}_{feature2}.png\")\n"
   ]
  },
  {
   "cell_type": "markdown",
   "id": "eca32445",
   "metadata": {},
   "source": [
    "### Análise de features de categorias/qualitativas"
   ]
  },
  {
   "cell_type": "code",
   "execution_count": 194,
   "id": "fa037d51",
   "metadata": {},
   "outputs": [
    {
     "data": {
      "text/html": [
       "<div>\n",
       "<style scoped>\n",
       "    .dataframe tbody tr th:only-of-type {\n",
       "        vertical-align: middle;\n",
       "    }\n",
       "\n",
       "    .dataframe tbody tr th {\n",
       "        vertical-align: top;\n",
       "    }\n",
       "\n",
       "    .dataframe thead th {\n",
       "        text-align: right;\n",
       "    }\n",
       "</style>\n",
       "<table border=\"1\" class=\"dataframe\">\n",
       "  <thead>\n",
       "    <tr style=\"text-align: right;\">\n",
       "      <th></th>\n",
       "      <th>count</th>\n",
       "      <th>unique</th>\n",
       "      <th>top</th>\n",
       "      <th>freq</th>\n",
       "    </tr>\n",
       "  </thead>\n",
       "  <tbody>\n",
       "    <tr>\n",
       "      <th>type</th>\n",
       "      <td>788</td>\n",
       "      <td>4</td>\n",
       "      <td>creature</td>\n",
       "      <td>526</td>\n",
       "    </tr>\n",
       "    <tr>\n",
       "      <th>god</th>\n",
       "      <td>788</td>\n",
       "      <td>7</td>\n",
       "      <td>neutral</td>\n",
       "      <td>276</td>\n",
       "    </tr>\n",
       "    <tr>\n",
       "      <th>strategy</th>\n",
       "      <td>788</td>\n",
       "      <td>2</td>\n",
       "      <td>early</td>\n",
       "      <td>432</td>\n",
       "    </tr>\n",
       "  </tbody>\n",
       "</table>\n",
       "</div>"
      ],
      "text/plain": [
       "         count unique       top freq\n",
       "type       788      4  creature  526\n",
       "god        788      7   neutral  276\n",
       "strategy   788      2     early  432"
      ]
     },
     "execution_count": 194,
     "metadata": {},
     "output_type": "execute_result"
    }
   ],
   "source": [
    "# Vizualizar descrição\n",
    "categorical_data.describe(include='object').T.to_html(\"./EDA Results/categorical_features_describe.html\")\n",
    "categorical_data.describe(include='object').T"
   ]
  },
  {
   "cell_type": "code",
   "execution_count": 195,
   "id": "e141b6c0",
   "metadata": {},
   "outputs": [
    {
     "data": {
      "image/png": "[encoded data removed]",
      "text/plain": [
       "<Figure size 640x480 with 1 Axes>"
      ]
     },
     "metadata": {},
     "output_type": "display_data"
    },
    {
     "data": {
      "image/png": "[encoded data removed]",
      "text/plain": [
       "<Figure size 640x480 with 1 Axes>"
      ]
     },
     "metadata": {},
     "output_type": "display_data"
    },
    {
     "data": {
      "image/png": "[encoded data removed]",
      "text/plain": [
       "<Figure size 640x480 with 1 Axes>"
      ]
     },
     "metadata": {},
     "output_type": "display_data"
    }
   ],
   "source": [
    "# Vizualiação de frequência de categorias em cada feature categórica\n",
    "for col in categorical_features:\n",
    "    plot = sns.countplot(categorical_data,\n",
    "                  x = col)\n",
    "    plt.show()\n",
    "    plot.figure.savefig(f\"./EDA Results/categorical_features_frequency_{col}.png\")"
   ]
  },
  {
   "cell_type": "markdown",
   "id": "0ee0fc91",
   "metadata": {},
   "source": [
    "## Pipeline de tratamento de features"
   ]
  },
  {
   "cell_type": "code",
   "execution_count": null,
   "id": "ff99ebcb",
   "metadata": {},
   "outputs": [
    {
     "data": {
      "text/plain": [
       "['../src/models/OneHotEncoder_model.pkl']"
      ]
     },
     "execution_count": 196,
     "metadata": {},
     "output_type": "execute_result"
    }
   ],
   "source": [
    "# Criar OneHotEncoder de categorical features (Exluindo o target - strategy)\n",
    "enc = OneHotEncoder(handle_unknown='ignore')\n",
    "enc.fit(categorical_data.drop(columns='strategy'))\n",
    "\n",
    "# save OneHotEncoder\n",
    "joblib.dump(enc, \"../src/models/OneHotEncoder_model.pkl\") "
   ]
  },
  {
   "cell_type": "code",
   "execution_count": 197,
   "id": "671e8aea",
   "metadata": {},
   "outputs": [],
   "source": [
    "# Remover o target - strategy, da categorical features\n",
    "categorical_features.remove(target)"
   ]
  },
  {
   "cell_type": "code",
   "execution_count": 198,
   "id": "5851a726",
   "metadata": {},
   "outputs": [
    {
     "data": {
      "text/plain": [
       "array(['type_creature', 'type_god power', 'type_spell', 'type_weapon',\n",
       "       'god_death', 'god_deception', 'god_light', 'god_magic',\n",
       "       'god_nature', 'god_neutral', 'god_war'], dtype=object)"
      ]
     },
     "execution_count": 198,
     "metadata": {},
     "output_type": "execute_result"
    }
   ],
   "source": [
    "# load\n",
    "enc = joblib.load(\"../src/models/OneHotEncoder_model.pkl\") \n",
    "enc.get_feature_names_out(categorical_features)"
   ]
  },
  {
   "cell_type": "code",
   "execution_count": 199,
   "id": "09fa798b",
   "metadata": {},
   "outputs": [
    {
     "data": {
      "text/html": [
       "<div>\n",
       "<style scoped>\n",
       "    .dataframe tbody tr th:only-of-type {\n",
       "        vertical-align: middle;\n",
       "    }\n",
       "\n",
       "    .dataframe tbody tr th {\n",
       "        vertical-align: top;\n",
       "    }\n",
       "\n",
       "    .dataframe thead th {\n",
       "        text-align: right;\n",
       "    }\n",
       "</style>\n",
       "<table border=\"1\" class=\"dataframe\">\n",
       "  <thead>\n",
       "    <tr style=\"text-align: right;\">\n",
       "      <th></th>\n",
       "      <th>mana</th>\n",
       "      <th>attack</th>\n",
       "      <th>health</th>\n",
       "      <th>type_creature</th>\n",
       "      <th>type_god power</th>\n",
       "      <th>type_spell</th>\n",
       "      <th>type_weapon</th>\n",
       "      <th>god_death</th>\n",
       "      <th>god_deception</th>\n",
       "      <th>god_light</th>\n",
       "      <th>god_magic</th>\n",
       "      <th>god_nature</th>\n",
       "      <th>god_neutral</th>\n",
       "      <th>god_war</th>\n",
       "    </tr>\n",
       "  </thead>\n",
       "  <tbody>\n",
       "    <tr>\n",
       "      <th>0</th>\n",
       "      <td>5</td>\n",
       "      <td>0</td>\n",
       "      <td>0</td>\n",
       "      <td>0.0</td>\n",
       "      <td>0.0</td>\n",
       "      <td>1.0</td>\n",
       "      <td>0.0</td>\n",
       "      <td>0.0</td>\n",
       "      <td>0.0</td>\n",
       "      <td>0.0</td>\n",
       "      <td>0.0</td>\n",
       "      <td>1.0</td>\n",
       "      <td>0.0</td>\n",
       "      <td>0.0</td>\n",
       "    </tr>\n",
       "    <tr>\n",
       "      <th>1</th>\n",
       "      <td>10</td>\n",
       "      <td>2</td>\n",
       "      <td>1</td>\n",
       "      <td>1.0</td>\n",
       "      <td>0.0</td>\n",
       "      <td>0.0</td>\n",
       "      <td>0.0</td>\n",
       "      <td>0.0</td>\n",
       "      <td>0.0</td>\n",
       "      <td>0.0</td>\n",
       "      <td>1.0</td>\n",
       "      <td>0.0</td>\n",
       "      <td>0.0</td>\n",
       "      <td>0.0</td>\n",
       "    </tr>\n",
       "    <tr>\n",
       "      <th>2</th>\n",
       "      <td>6</td>\n",
       "      <td>4</td>\n",
       "      <td>4</td>\n",
       "      <td>1.0</td>\n",
       "      <td>0.0</td>\n",
       "      <td>0.0</td>\n",
       "      <td>0.0</td>\n",
       "      <td>0.0</td>\n",
       "      <td>0.0</td>\n",
       "      <td>0.0</td>\n",
       "      <td>0.0</td>\n",
       "      <td>0.0</td>\n",
       "      <td>1.0</td>\n",
       "      <td>0.0</td>\n",
       "    </tr>\n",
       "    <tr>\n",
       "      <th>3</th>\n",
       "      <td>4</td>\n",
       "      <td>2</td>\n",
       "      <td>2</td>\n",
       "      <td>1.0</td>\n",
       "      <td>0.0</td>\n",
       "      <td>0.0</td>\n",
       "      <td>0.0</td>\n",
       "      <td>0.0</td>\n",
       "      <td>0.0</td>\n",
       "      <td>0.0</td>\n",
       "      <td>0.0</td>\n",
       "      <td>0.0</td>\n",
       "      <td>1.0</td>\n",
       "      <td>0.0</td>\n",
       "    </tr>\n",
       "    <tr>\n",
       "      <th>4</th>\n",
       "      <td>4</td>\n",
       "      <td>1</td>\n",
       "      <td>3</td>\n",
       "      <td>1.0</td>\n",
       "      <td>0.0</td>\n",
       "      <td>0.0</td>\n",
       "      <td>0.0</td>\n",
       "      <td>0.0</td>\n",
       "      <td>0.0</td>\n",
       "      <td>0.0</td>\n",
       "      <td>0.0</td>\n",
       "      <td>0.0</td>\n",
       "      <td>1.0</td>\n",
       "      <td>0.0</td>\n",
       "    </tr>\n",
       "    <tr>\n",
       "      <th>...</th>\n",
       "      <td>...</td>\n",
       "      <td>...</td>\n",
       "      <td>...</td>\n",
       "      <td>...</td>\n",
       "      <td>...</td>\n",
       "      <td>...</td>\n",
       "      <td>...</td>\n",
       "      <td>...</td>\n",
       "      <td>...</td>\n",
       "      <td>...</td>\n",
       "      <td>...</td>\n",
       "      <td>...</td>\n",
       "      <td>...</td>\n",
       "      <td>...</td>\n",
       "    </tr>\n",
       "    <tr>\n",
       "      <th>783</th>\n",
       "      <td>2</td>\n",
       "      <td>1</td>\n",
       "      <td>1</td>\n",
       "      <td>1.0</td>\n",
       "      <td>0.0</td>\n",
       "      <td>0.0</td>\n",
       "      <td>0.0</td>\n",
       "      <td>1.0</td>\n",
       "      <td>0.0</td>\n",
       "      <td>0.0</td>\n",
       "      <td>0.0</td>\n",
       "      <td>0.0</td>\n",
       "      <td>0.0</td>\n",
       "      <td>0.0</td>\n",
       "    </tr>\n",
       "    <tr>\n",
       "      <th>784</th>\n",
       "      <td>4</td>\n",
       "      <td>4</td>\n",
       "      <td>4</td>\n",
       "      <td>1.0</td>\n",
       "      <td>0.0</td>\n",
       "      <td>0.0</td>\n",
       "      <td>0.0</td>\n",
       "      <td>1.0</td>\n",
       "      <td>0.0</td>\n",
       "      <td>0.0</td>\n",
       "      <td>0.0</td>\n",
       "      <td>0.0</td>\n",
       "      <td>0.0</td>\n",
       "      <td>0.0</td>\n",
       "    </tr>\n",
       "    <tr>\n",
       "      <th>785</th>\n",
       "      <td>7</td>\n",
       "      <td>5</td>\n",
       "      <td>5</td>\n",
       "      <td>1.0</td>\n",
       "      <td>0.0</td>\n",
       "      <td>0.0</td>\n",
       "      <td>0.0</td>\n",
       "      <td>0.0</td>\n",
       "      <td>0.0</td>\n",
       "      <td>0.0</td>\n",
       "      <td>0.0</td>\n",
       "      <td>0.0</td>\n",
       "      <td>1.0</td>\n",
       "      <td>0.0</td>\n",
       "    </tr>\n",
       "    <tr>\n",
       "      <th>786</th>\n",
       "      <td>7</td>\n",
       "      <td>6</td>\n",
       "      <td>7</td>\n",
       "      <td>1.0</td>\n",
       "      <td>0.0</td>\n",
       "      <td>0.0</td>\n",
       "      <td>0.0</td>\n",
       "      <td>0.0</td>\n",
       "      <td>0.0</td>\n",
       "      <td>0.0</td>\n",
       "      <td>0.0</td>\n",
       "      <td>0.0</td>\n",
       "      <td>1.0</td>\n",
       "      <td>0.0</td>\n",
       "    </tr>\n",
       "    <tr>\n",
       "      <th>787</th>\n",
       "      <td>2</td>\n",
       "      <td>0</td>\n",
       "      <td>0</td>\n",
       "      <td>0.0</td>\n",
       "      <td>1.0</td>\n",
       "      <td>0.0</td>\n",
       "      <td>0.0</td>\n",
       "      <td>0.0</td>\n",
       "      <td>0.0</td>\n",
       "      <td>1.0</td>\n",
       "      <td>0.0</td>\n",
       "      <td>0.0</td>\n",
       "      <td>0.0</td>\n",
       "      <td>0.0</td>\n",
       "    </tr>\n",
       "  </tbody>\n",
       "</table>\n",
       "<p>788 rows × 14 columns</p>\n",
       "</div>"
      ],
      "text/plain": [
       "     mana  attack  health  type_creature  type_god power  type_spell  \\\n",
       "0       5       0       0            0.0             0.0         1.0   \n",
       "1      10       2       1            1.0             0.0         0.0   \n",
       "2       6       4       4            1.0             0.0         0.0   \n",
       "3       4       2       2            1.0             0.0         0.0   \n",
       "4       4       1       3            1.0             0.0         0.0   \n",
       "..    ...     ...     ...            ...             ...         ...   \n",
       "783     2       1       1            1.0             0.0         0.0   \n",
       "784     4       4       4            1.0             0.0         0.0   \n",
       "785     7       5       5            1.0             0.0         0.0   \n",
       "786     7       6       7            1.0             0.0         0.0   \n",
       "787     2       0       0            0.0             1.0         0.0   \n",
       "\n",
       "     type_weapon  god_death  god_deception  god_light  god_magic  god_nature  \\\n",
       "0            0.0        0.0            0.0        0.0        0.0         1.0   \n",
       "1            0.0        0.0            0.0        0.0        1.0         0.0   \n",
       "2            0.0        0.0            0.0        0.0        0.0         0.0   \n",
       "3            0.0        0.0            0.0        0.0        0.0         0.0   \n",
       "4            0.0        0.0            0.0        0.0        0.0         0.0   \n",
       "..           ...        ...            ...        ...        ...         ...   \n",
       "783          0.0        1.0            0.0        0.0        0.0         0.0   \n",
       "784          0.0        1.0            0.0        0.0        0.0         0.0   \n",
       "785          0.0        0.0            0.0        0.0        0.0         0.0   \n",
       "786          0.0        0.0            0.0        0.0        0.0         0.0   \n",
       "787          0.0        0.0            0.0        1.0        0.0         0.0   \n",
       "\n",
       "     god_neutral  god_war  \n",
       "0            0.0      0.0  \n",
       "1            0.0      0.0  \n",
       "2            1.0      0.0  \n",
       "3            1.0      0.0  \n",
       "4            1.0      0.0  \n",
       "..           ...      ...  \n",
       "783          0.0      0.0  \n",
       "784          0.0      0.0  \n",
       "785          1.0      0.0  \n",
       "786          1.0      0.0  \n",
       "787          0.0      0.0  \n",
       "\n",
       "[788 rows x 14 columns]"
      ]
     },
     "execution_count": 199,
     "metadata": {},
     "output_type": "execute_result"
    }
   ],
   "source": [
    "# Organizar features numericas com Categorias tranformadas pelo Encoder\n",
    "X = pd.concat([numerical_data, pd.DataFrame(enc.transform(categorical_data.drop(columns='strategy')).toarray(), columns=enc.get_feature_names_out(categorical_features))],\n",
    "              axis = 1)\n",
    "X"
   ]
  },
  {
   "cell_type": "code",
   "execution_count": 200,
   "id": "45ff72a1",
   "metadata": {},
   "outputs": [
    {
     "data": {
      "text/plain": [
       "0      early\n",
       "1       late\n",
       "2       late\n",
       "3       late\n",
       "4       late\n",
       "       ...  \n",
       "783    early\n",
       "784     late\n",
       "785     late\n",
       "786     late\n",
       "787    early\n",
       "Name: strategy, Length: 788, dtype: object"
      ]
     },
     "execution_count": 200,
     "metadata": {},
     "output_type": "execute_result"
    }
   ],
   "source": [
    "# Selecionar a feature target - strategy\n",
    "y = df_train[target]\n",
    "y"
   ]
  },
  {
   "cell_type": "code",
   "execution_count": 201,
   "id": "8229fe6a",
   "metadata": {},
   "outputs": [
    {
     "name": "stdout",
     "output_type": "stream",
     "text": [
      "(527,)\n",
      "(261,)\n"
     ]
    }
   ],
   "source": [
    "# Realizar train test spli - para avaliação do treinamento \n",
    "X_train, X_test, y_train, y_test = train_test_split(X, y, test_size=0.33, random_state=42)\n",
    "print(y_train.shape)\n",
    "print(y_test.shape)"
   ]
  },
  {
   "cell_type": "code",
   "execution_count": 202,
   "id": "044939cd",
   "metadata": {},
   "outputs": [
    {
     "data": {
      "text/plain": [
       "['../src/models/Classification_model.pkl']"
      ]
     },
     "execution_count": 202,
     "metadata": {},
     "output_type": "execute_result"
    }
   ],
   "source": [
    "# Realizar treinamento do Modelo SVC\n",
    "clf = SVC(gamma='auto')\n",
    "clf.fit(X_train, y_train)\n",
    "joblib.dump(clf, \"../src/models/Classification_model.pkl\") \n"
   ]
  },
  {
   "cell_type": "code",
   "execution_count": 203,
   "id": "55d19ace",
   "metadata": {},
   "outputs": [
    {
     "data": {
      "text/html": [
       "<div>\n",
       "<style scoped>\n",
       "    .dataframe tbody tr th:only-of-type {\n",
       "        vertical-align: middle;\n",
       "    }\n",
       "\n",
       "    .dataframe tbody tr th {\n",
       "        vertical-align: top;\n",
       "    }\n",
       "\n",
       "    .dataframe thead th {\n",
       "        text-align: right;\n",
       "    }\n",
       "</style>\n",
       "<table border=\"1\" class=\"dataframe\">\n",
       "  <thead>\n",
       "    <tr style=\"text-align: right;\">\n",
       "      <th></th>\n",
       "      <th>early</th>\n",
       "      <th>late</th>\n",
       "      <th>accuracy</th>\n",
       "      <th>macro avg</th>\n",
       "      <th>weighted avg</th>\n",
       "    </tr>\n",
       "  </thead>\n",
       "  <tbody>\n",
       "    <tr>\n",
       "      <th>precision</th>\n",
       "      <td>0.982993</td>\n",
       "      <td>1.000000</td>\n",
       "      <td>0.990512</td>\n",
       "      <td>0.991497</td>\n",
       "      <td>0.990674</td>\n",
       "    </tr>\n",
       "    <tr>\n",
       "      <th>recall</th>\n",
       "      <td>1.000000</td>\n",
       "      <td>0.978992</td>\n",
       "      <td>0.990512</td>\n",
       "      <td>0.989496</td>\n",
       "      <td>0.990512</td>\n",
       "    </tr>\n",
       "    <tr>\n",
       "      <th>f1-score</th>\n",
       "      <td>0.991424</td>\n",
       "      <td>0.989384</td>\n",
       "      <td>0.990512</td>\n",
       "      <td>0.990404</td>\n",
       "      <td>0.990503</td>\n",
       "    </tr>\n",
       "    <tr>\n",
       "      <th>support</th>\n",
       "      <td>289.000000</td>\n",
       "      <td>238.000000</td>\n",
       "      <td>0.990512</td>\n",
       "      <td>527.000000</td>\n",
       "      <td>527.000000</td>\n",
       "    </tr>\n",
       "  </tbody>\n",
       "</table>\n",
       "</div>"
      ],
      "text/plain": [
       "                early        late  accuracy   macro avg  weighted avg\n",
       "precision    0.982993    1.000000  0.990512    0.991497      0.990674\n",
       "recall       1.000000    0.978992  0.990512    0.989496      0.990512\n",
       "f1-score     0.991424    0.989384  0.990512    0.990404      0.990503\n",
       "support    289.000000  238.000000  0.990512  527.000000    527.000000"
      ]
     },
     "execution_count": 203,
     "metadata": {},
     "output_type": "execute_result"
    }
   ],
   "source": [
    "# Report de avalição com dados de treinamento\n",
    "report_train_data = classification_report(y_train, clf.predict(X_train), output_dict=True)\n",
    "report_train_data = pd.DataFrame(data = report_train_data)\n",
    "report_train_data.to_html('./Evaluation_report_traindata_SVC.html')\n",
    "report_train_data"
   ]
  },
  {
   "cell_type": "code",
   "execution_count": 204,
   "id": "a93c651c",
   "metadata": {},
   "outputs": [
    {
     "data": {
      "text/html": [
       "<div>\n",
       "<style scoped>\n",
       "    .dataframe tbody tr th:only-of-type {\n",
       "        vertical-align: middle;\n",
       "    }\n",
       "\n",
       "    .dataframe tbody tr th {\n",
       "        vertical-align: top;\n",
       "    }\n",
       "\n",
       "    .dataframe thead th {\n",
       "        text-align: right;\n",
       "    }\n",
       "</style>\n",
       "<table border=\"1\" class=\"dataframe\">\n",
       "  <thead>\n",
       "    <tr style=\"text-align: right;\">\n",
       "      <th></th>\n",
       "      <th>early</th>\n",
       "      <th>late</th>\n",
       "      <th>accuracy</th>\n",
       "      <th>macro avg</th>\n",
       "      <th>weighted avg</th>\n",
       "    </tr>\n",
       "  </thead>\n",
       "  <tbody>\n",
       "    <tr>\n",
       "      <th>precision</th>\n",
       "      <td>0.972603</td>\n",
       "      <td>0.991304</td>\n",
       "      <td>0.980843</td>\n",
       "      <td>0.981954</td>\n",
       "      <td>0.981058</td>\n",
       "    </tr>\n",
       "    <tr>\n",
       "      <th>recall</th>\n",
       "      <td>0.993007</td>\n",
       "      <td>0.966102</td>\n",
       "      <td>0.980843</td>\n",
       "      <td>0.979554</td>\n",
       "      <td>0.980843</td>\n",
       "    </tr>\n",
       "    <tr>\n",
       "      <th>f1-score</th>\n",
       "      <td>0.982699</td>\n",
       "      <td>0.978541</td>\n",
       "      <td>0.980843</td>\n",
       "      <td>0.980620</td>\n",
       "      <td>0.980819</td>\n",
       "    </tr>\n",
       "    <tr>\n",
       "      <th>support</th>\n",
       "      <td>143.000000</td>\n",
       "      <td>118.000000</td>\n",
       "      <td>0.980843</td>\n",
       "      <td>261.000000</td>\n",
       "      <td>261.000000</td>\n",
       "    </tr>\n",
       "  </tbody>\n",
       "</table>\n",
       "</div>"
      ],
      "text/plain": [
       "                early        late  accuracy   macro avg  weighted avg\n",
       "precision    0.972603    0.991304  0.980843    0.981954      0.981058\n",
       "recall       0.993007    0.966102  0.980843    0.979554      0.980843\n",
       "f1-score     0.982699    0.978541  0.980843    0.980620      0.980819\n",
       "support    143.000000  118.000000  0.980843  261.000000    261.000000"
      ]
     },
     "execution_count": 204,
     "metadata": {},
     "output_type": "execute_result"
    }
   ],
   "source": [
    "# Report de avalição com dados de teste\n",
    "report_test_data = classification_report(y_test, clf.predict(X_test), output_dict=True)\n",
    "report_test_data = pd.DataFrame(data = report_test_data)\n",
    "report_test_data.to_html('./Evaluation_report_testdata_SVC.html')\n",
    "report_test_data"
   ]
  }
 ],
 "metadata": {
  "kernelspec": {
   "display_name": "Python 3",
   "language": "python",
   "name": "python3"
  },
  "language_info": {
   "codemirror_mode": {
    "name": "ipython",
    "version": 3
   },
   "file_extension": ".py",
   "mimetype": "text/x-python",
   "name": "python",
   "nbconvert_exporter": "python",
   "pygments_lexer": "ipython3",
   "version": "3.12.4"
  }
 },
 "nbformat": 4,
 "nbformat_minor": 5
}
